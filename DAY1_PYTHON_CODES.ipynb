{
  "nbformat": 4,
  "nbformat_minor": 0,
  "metadata": {
    "colab": {
      "provenance": [],
      "authorship_tag": "ABX9TyMsHCf7CfrPwxCpfIgEOg6x",
      "include_colab_link": true
    },
    "kernelspec": {
      "name": "python3",
      "display_name": "Python 3"
    },
    "language_info": {
      "name": "python"
    }
  },
  "cells": [
    {
      "cell_type": "markdown",
      "metadata": {
        "id": "view-in-github",
        "colab_type": "text"
      },
      "source": [
        "<a href=\"https://colab.research.google.com/github/ChitikelaNeelaPadmavathi/python-codes/blob/main/DAY1_PYTHON_CODES.ipynb\" target=\"_parent\"><img src=\"https://colab.research.google.com/assets/colab-badge.svg\" alt=\"Open In Colab\"/></a>"
      ]
    },
    {
      "cell_type": "markdown",
      "source": [
        "# 1.Check if a Number is Positive and Negative in Python"
      ],
      "metadata": {
        "id": "TZ_sUXGj24Mg"
      }
    },
    {
      "cell_type": "code",
      "source": [
        "n=int(input())\n",
        "if n>0:\n",
        "  print(\"It is positive Number\")\n",
        "elif n<0:\n",
        "  print(\"Negative Number\")\n",
        "else:\n",
        "  print(\"zero\")"
      ],
      "metadata": {
        "colab": {
          "base_uri": "https://localhost:8080/"
        },
        "id": "faQlA0dQ5Exr",
        "outputId": "ab8cffab-e096-4f58-d26b-c74bf4d3064e"
      },
      "execution_count": null,
      "outputs": [
        {
          "output_type": "stream",
          "name": "stdout",
          "text": [
            "0\n",
            "zero\n"
          ]
        }
      ]
    },
    {
      "cell_type": "markdown",
      "source": [
        "# 2.Python Program to Check Whether a Number is Even or Odd"
      ],
      "metadata": {
        "id": "cIELNbfFAoYs"
      }
    },
    {
      "cell_type": "code",
      "source": [
        "num=int(input())\n",
        "if num%2==0:\n",
        "    print (\"Even\")\n",
        "else:\n",
        "    print(\"Odd\")"
      ],
      "metadata": {
        "id": "FMzFK0o2_ZJv",
        "colab": {
          "base_uri": "https://localhost:8080/"
        },
        "outputId": "e4d0c51a-7e32-4ba1-f2cc-777cde67d0db"
      },
      "execution_count": null,
      "outputs": [
        {
          "output_type": "stream",
          "name": "stdout",
          "text": [
            "5\n",
            "Odd\n"
          ]
        }
      ]
    },
    {
      "cell_type": "code",
      "source": [
        "#By using ternary operator\n",
        "num=int(input ())\n",
        "print(\"even\") if num%2==0 else print(\"odd\")"
      ],
      "metadata": {
        "colab": {
          "base_uri": "https://localhost:8080/"
        },
        "id": "LrJZU_hr1vfv",
        "outputId": "c60696ac-bdb6-4ed6-b903-44089a3948e1"
      },
      "execution_count": null,
      "outputs": [
        {
          "output_type": "stream",
          "name": "stdout",
          "text": [
            "6\n",
            "even\n"
          ]
        }
      ]
    },
    {
      "cell_type": "markdown",
      "source": [
        "#3.Python Program to Find the Sum of First N Natural Numbers"
      ],
      "metadata": {
        "id": "3UPz-3rn0wlV"
      }
    },
    {
      "cell_type": "code",
      "source": [
        "num=int(input ())\n",
        "sum=0\n",
        "for i in range(num+1):\n",
        "    sum+=i\n",
        "print(sum)"
      ],
      "metadata": {
        "colab": {
          "base_uri": "https://localhost:8080/"
        },
        "id": "fTe_PBHl1VAG",
        "outputId": "6d25f6c9-a2df-412e-db49-1851a58eabf0"
      },
      "execution_count": null,
      "outputs": [
        {
          "output_type": "stream",
          "name": "stdout",
          "text": [
            "5\n",
            "15\n"
          ]
        }
      ]
    },
    {
      "cell_type": "code",
      "source": [
        "#by using formula\n",
        "num=int(input ())\n",
        "print(int(num*(num+1)/2))"
      ],
      "metadata": {
        "colab": {
          "base_uri": "https://localhost:8080/"
        },
        "id": "yU1nIP3_2wFU",
        "outputId": "b292b4c8-c4ee-49e6-a78d-f7a61bb6fd31"
      },
      "execution_count": null,
      "outputs": [
        {
          "output_type": "stream",
          "name": "stdout",
          "text": [
            "5\n",
            "15\n"
          ]
        }
      ]
    },
    {
      "cell_type": "code",
      "source": [
        "#by using recursion\n",
        "def getsum(num):\n",
        "    if num==1:\n",
        "        return 1\n",
        "    return num+getsum(num-1)\n",
        "num=int(input ())\n",
        "print(getsum(num))"
      ],
      "metadata": {
        "colab": {
          "base_uri": "https://localhost:8080/"
        },
        "id": "jmkgT0WT3SRp",
        "outputId": "aa0b971f-ec5c-4c30-b9f0-dd93eb617ac1"
      },
      "execution_count": null,
      "outputs": [
        {
          "output_type": "stream",
          "name": "stdout",
          "text": [
            "1\n",
            "1\n"
          ]
        }
      ]
    },
    {
      "cell_type": "markdown",
      "source": [
        "#4.Sum of numbers in the given range"
      ],
      "metadata": {
        "id": "HDYyEBWI5OMu"
      }
    },
    {
      "cell_type": "code",
      "source": [
        "num1=int(input (\"Enter 1st number:\"))\n",
        "num2=int(input (\"Enter 2nd number:\"))\n",
        "sum=0\n",
        "for i in range (num1,num2+1):\n",
        "    sum=sum+i\n",
        "print (sum)"
      ],
      "metadata": {
        "colab": {
          "base_uri": "https://localhost:8080/"
        },
        "id": "XryNsKAO5XOu",
        "outputId": "3bcd2586-aed8-41f8-eaad-1472d819b624"
      },
      "execution_count": null,
      "outputs": [
        {
          "output_type": "stream",
          "name": "stdout",
          "text": [
            "Enter 1st number:3\n",
            "Enter 2nd number:6\n",
            "18\n"
          ]
        }
      ]
    },
    {
      "cell_type": "markdown",
      "source": [
        "#5.Greatest of two numbers"
      ],
      "metadata": {
        "id": "DdVSYc9e7Lnd"
      }
    },
    {
      "cell_type": "code",
      "source": [
        "Num1=int(input ())\n",
        "Num2=int(input ())\n",
        "print(max(Num1,Num2))"
      ],
      "metadata": {
        "colab": {
          "base_uri": "https://localhost:8080/"
        },
        "id": "tAkcIyO57lpA",
        "outputId": "ab0d1fcc-4616-4e4d-842e-0c496d827cf2"
      },
      "execution_count": null,
      "outputs": [
        {
          "output_type": "stream",
          "name": "stdout",
          "text": [
            "56\n",
            "6\n",
            "56\n"
          ]
        }
      ]
    },
    {
      "cell_type": "markdown",
      "source": [
        "#6.Greatest of three numbers"
      ],
      "metadata": {
        "id": "dzbnGwqn8pwP"
      }
    },
    {
      "cell_type": "code",
      "source": [
        "num1=int(input ())\n",
        "num2=int(input ())\n",
        "num3=int(input ())\n",
        "if num1>num2 and num1>num3:\n",
        "    print(num1,\"is greater\")\n",
        "elif num2>num1 and num2>num3:\n",
        "    print (num2,\"is greater\")\n",
        "else:\n",
        "   print(num3,\"is greater \")"
      ],
      "metadata": {
        "colab": {
          "base_uri": "https://localhost:8080/"
        },
        "id": "DZQ9Z0kU-C8M",
        "outputId": "0458fcd5-3045-4d36-832a-d60905a5519c"
      },
      "execution_count": null,
      "outputs": [
        {
          "output_type": "stream",
          "name": "stdout",
          "text": [
            "45\n",
            "8\n",
            "0\n",
            "45 is greater\n"
          ]
        }
      ]
    },
    {
      "cell_type": "markdown",
      "source": [
        "#7.Leap year"
      ],
      "metadata": {
        "id": "d8RRLWii_Fcb"
      }
    },
    {
      "cell_type": "code",
      "source": [
        "num=int(input ())\n",
        "if num%4==0 and num%100!=0:\n",
        "    print (\"Leap year\")\n",
        "elif num%400==0:\n",
        "    print(\"leap year\")\n",
        "else:\n",
        "    print(\"not a Leap year\")"
      ],
      "metadata": {
        "colab": {
          "base_uri": "https://localhost:8080/"
        },
        "id": "eB1NSL-L_GN7",
        "outputId": "7385f1c5-cded-4b8e-8431-6ee09e47494c"
      },
      "execution_count": null,
      "outputs": [
        {
          "output_type": "stream",
          "name": "stdout",
          "text": [
            "2024\n",
            "Leap year\n"
          ]
        }
      ]
    },
    {
      "cell_type": "markdown",
      "source": [
        "#8.prime number"
      ],
      "metadata": {
        "id": "r2k2MwwpC_Yd"
      }
    },
    {
      "cell_type": "code",
      "source": [
        "def is_prime(n):\n",
        "    if n <= 1:\n",
        "        return False\n",
        "    for i in range(2, n):\n",
        "        if n % i == 0:\n",
        "            return False\n",
        "    return True\n",
        "\n",
        "# Example usage\n",
        "number = int(input ())\n",
        "if is_prime(number):\n",
        "    print(f\"{number} is a prime number.\")\n",
        "else:\n",
        "    print(f\"{number} is not a prime number.\")"
      ],
      "metadata": {
        "id": "tmPgu04sDOLY",
        "colab": {
          "base_uri": "https://localhost:8080/"
        },
        "outputId": "714176e6-9ec9-4d83-bc9b-d1cf0ca9f530"
      },
      "execution_count": null,
      "outputs": [
        {
          "output_type": "stream",
          "name": "stdout",
          "text": [
            "13\n",
            "13 is a prime number.\n"
          ]
        }
      ]
    },
    {
      "cell_type": "markdown",
      "source": [
        "#9.prime number within the range"
      ],
      "metadata": {
        "id": "pBg3CLsJaCYW"
      }
    },
    {
      "cell_type": "code",
      "source": [
        "start = 10\n",
        "end = 50\n",
        "for n in range(start, end + 1):\n",
        "    is_prime = True\n",
        "    if n > 1:\n",
        "        for i in range(2, n):\n",
        "            if n % i == 0:\n",
        "                is_prime = False\n",
        "                break\n",
        "        if is_prime:\n",
        "            print(n)"
      ],
      "metadata": {
        "id": "UfLp1o7EaCwW"
      },
      "execution_count": null,
      "outputs": []
    },
    {
      "cell_type": "markdown",
      "source": [
        "#10.Reverse a number"
      ],
      "metadata": {
        "id": "PJcBEgHxaDSx"
      }
    },
    {
      "cell_type": "code",
      "source": [
        "\n",
        "number = int(input(\"Enter a number: \"))\n",
        "reversed_number = int(str(number)[::-1])\n",
        "print(\"Reversed Number:\", reversed_number)"
      ],
      "metadata": {
        "id": "_lSrJyCeaDlo",
        "colab": {
          "base_uri": "https://localhost:8080/"
        },
        "outputId": "47fb03b6-7d26-4830-ce4b-73b96c2c235e"
      },
      "execution_count": null,
      "outputs": [
        {
          "output_type": "stream",
          "name": "stdout",
          "text": [
            "Enter a number: 057899\n",
            "Reversed Number: 99875\n"
          ]
        }
      ]
    },
    {
      "cell_type": "markdown",
      "source": [],
      "metadata": {
        "id": "-DA0NlIQgwHC"
      }
    }
  ]
}