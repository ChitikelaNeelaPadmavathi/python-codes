{
  "nbformat": 4,
  "nbformat_minor": 0,
  "metadata": {
    "colab": {
      "provenance": [],
      "authorship_tag": "ABX9TyOOyytYRTmLzc6UIowu2VF1",
      "include_colab_link": true
    },
    "kernelspec": {
      "name": "python3",
      "display_name": "Python 3"
    },
    "language_info": {
      "name": "python"
    }
  },
  "cells": [
    {
      "cell_type": "markdown",
      "metadata": {
        "id": "view-in-github",
        "colab_type": "text"
      },
      "source": [
        "<a href=\"https://colab.research.google.com/github/ChitikelaNeelaPadmavathi/python-codes/blob/main/DAY_2.ipynb\" target=\"_parent\"><img src=\"https://colab.research.google.com/assets/colab-badge.svg\" alt=\"Open In Colab\"/></a>"
      ]
    },
    {
      "cell_type": "markdown",
      "source": [
        "#1.palindrome"
      ],
      "metadata": {
        "id": "ozu0AiUzdErE"
      }
    },
    {
      "cell_type": "code",
      "source": [
        "s=int(input ())\n",
        "reverse=int(str(s)[::-1])\n",
        "if s==reverse:\n",
        "    print (\"palindrome\")\n",
        "else:\n",
        "    print (\"not a palindrome \")"
      ],
      "metadata": {
        "colab": {
          "base_uri": "https://localhost:8080/"
        },
        "id": "16FFPDPCdHy3",
        "outputId": "e12f683e-f3dc-489b-e8df-7da7e97641b0"
      },
      "execution_count": null,
      "outputs": [
        {
          "output_type": "stream",
          "name": "stdout",
          "text": [
            "34567\n",
            "not a palindrome \n"
          ]
        }
      ]
    },
    {
      "cell_type": "code",
      "source": [
        "\n",
        "def is_palindrome(string):\n",
        "    string = string.lower().replace(\" \", \"\")  # Convert to lowercase and remove spaces\n",
        "    return string == string[::-1]  # Check if the processed string is the same when reversed\n",
        "\n",
        "# Get user input\n",
        "s = input(\"Enter a string: \")\n",
        "\n",
        "# Check and print the result\n",
        "if is_palindrome(s):\n",
        "    print(\"Palindrome\")\n",
        "else:\n",
        "    print(\"Not a palindrome\")"
      ],
      "metadata": {
        "id": "qK0h72o9j5AF",
        "outputId": "c238bf63-7cd4-4d02-8b19-70b8037fa28e",
        "colab": {
          "base_uri": "https://localhost:8080/"
        }
      },
      "execution_count": null,
      "outputs": [
        {
          "output_type": "stream",
          "name": "stdout",
          "text": [
            "Enter a string: Gdrhj\n",
            "Not a palindrome\n"
          ]
        }
      ]
    },
    {
      "cell_type": "markdown",
      "source": [
        "**2.AMSTRONG NUMBER**\n"
      ],
      "metadata": {
        "id": "QX3bkxYCrojR"
      }
    },
    {
      "cell_type": "code",
      "source": [
        "num=int(input())\n",
        "digits=str(num)\n",
        "num_digit=len(digits)\n",
        "amstrong_sum=0\n",
        "for i in digits:\n",
        "  amstrong_sum+=int(i)**num_digit\n",
        "if amstrong_sum==num:\n",
        "    print(\"It is Amstrong\")\n",
        "else:\n",
        "    print(\"It is not a amstrong number\")\n",
        "\n"
      ],
      "metadata": {
        "id": "MsoZ01RCuaPT",
        "colab": {
          "base_uri": "https://localhost:8080/"
        },
        "outputId": "92c5fc70-0196-4db9-e78a-5affbc27e7f8"
      },
      "execution_count": null,
      "outputs": [
        {
          "output_type": "stream",
          "name": "stdout",
          "text": [
            "153\n",
            "It is Amstrong\n"
          ]
        }
      ]
    },
    {
      "cell_type": "code",
      "source": [
        "n=int(input())\n",
        "m=n\n",
        "sum=0\n",
        "while m!=0:\n",
        "  d=m%10\n",
        "  sum=sum+(d**3)\n",
        "  m=m//10\n",
        "if(sum==n):\n",
        "  print(\"amstrong\")\n",
        "else:\n",
        "  print(\"not amstrong\")\n"
      ],
      "metadata": {
        "colab": {
          "base_uri": "https://localhost:8080/"
        },
        "id": "_UzYoYIIYHjZ",
        "outputId": "9f3225fa-a944-43eb-fb1b-3645e886ce70"
      },
      "execution_count": null,
      "outputs": [
        {
          "output_type": "stream",
          "name": "stdout",
          "text": [
            "5667\n",
            "not amstrong\n"
          ]
        }
      ]
    },
    {
      "cell_type": "markdown",
      "source": [
        "**3.FIBONACCI SERIES**"
      ],
      "metadata": {
        "id": "byMog9cqucBx"
      }
    },
    {
      "cell_type": "code",
      "source": [
        "num=int(input())\n",
        "n1,n2=0,1\n",
        "print(\"fibanacii:\",n1,n2,end=\" \")\n",
        "for i in range(2,num):\n",
        "  n3=n1+n2\n",
        "  n1=n2\n",
        "  n2=n3\n",
        "  print(n3,end=\" \")"
      ],
      "metadata": {
        "colab": {
          "base_uri": "https://localhost:8080/"
        },
        "id": "jxdmNFgqwn1F",
        "outputId": "68ac84db-a4ec-4639-fb5b-3ccca5395f32"
      },
      "execution_count": null,
      "outputs": [
        {
          "output_type": "stream",
          "name": "stdout",
          "text": [
            "10\n",
            "fibanacii: 0 1 1 2 3 5 8 13 21 34 "
          ]
        }
      ]
    },
    {
      "cell_type": "code",
      "source": [],
      "metadata": {
        "id": "O9dWRtWLyAg5"
      },
      "execution_count": null,
      "outputs": []
    },
    {
      "cell_type": "markdown",
      "source": [
        "**4.FACTORIAL NUMBER**"
      ],
      "metadata": {
        "id": "hyvfTePaxsTV"
      }
    },
    {
      "cell_type": "code",
      "source": [
        "num=int(input())\n",
        "fact=1\n",
        "for i in range(1,num+1):\n",
        "  fact=fact*i\n",
        "print(fact)"
      ],
      "metadata": {
        "colab": {
          "base_uri": "https://localhost:8080/"
        },
        "id": "fuebN0DAxriK",
        "outputId": "7157c7c4-6f1b-4cae-ca97-c07408aa165c"
      },
      "execution_count": null,
      "outputs": [
        {
          "output_type": "stream",
          "name": "stdout",
          "text": [
            "5\n",
            "120\n"
          ]
        }
      ]
    },
    {
      "cell_type": "markdown",
      "source": [
        "**5.POWER OF A NUMBER**"
      ],
      "metadata": {
        "id": "OGoPns7TzL64"
      }
    },
    {
      "cell_type": "code",
      "source": [
        "num=int(input())\n",
        "b=num*2\n",
        "print(b)"
      ],
      "metadata": {
        "colab": {
          "base_uri": "https://localhost:8080/"
        },
        "id": "t9gj7DmPz126",
        "outputId": "1a12d63a-2443-49c0-90f8-c774e51996d5"
      },
      "execution_count": null,
      "outputs": [
        {
          "output_type": "stream",
          "name": "stdout",
          "text": [
            "5\n",
            "10\n"
          ]
        }
      ]
    },
    {
      "cell_type": "markdown",
      "source": [
        "**6.FACTORS OF A NUMBER**"
      ],
      "metadata": {
        "id": "mTgKHfFt2GFC"
      }
    },
    {
      "cell_type": "code",
      "source": [
        "num=int(input())\n",
        "for i in range(1,num+1):\n",
        "  if num%i==0:\n",
        "    print(i,end=\" \")\n",
        "\n",
        "\n",
        "\n"
      ],
      "metadata": {
        "colab": {
          "base_uri": "https://localhost:8080/"
        },
        "id": "pS8gcseR2NeR",
        "outputId": "6e31afa8-8dce-4185-912a-1c5e8ac998c9"
      },
      "execution_count": null,
      "outputs": [
        {
          "output_type": "stream",
          "name": "stdout",
          "text": [
            "8\n",
            "1 2 4 8 "
          ]
        }
      ]
    },
    {
      "cell_type": "markdown",
      "source": [
        "**7.Sum of prime factors**"
      ],
      "metadata": {
        "id": "qWuL5wBiVl3i"
      }
    },
    {
      "cell_type": "code",
      "source": [
        "num = int(input(\"enter the num: \"))\n",
        "sum = 0\n",
        "for i in range(1,10):\n",
        "     if num % i == 0:\n",
        "          sum = sum + i\n",
        "print(sum)"
      ],
      "metadata": {
        "colab": {
          "base_uri": "https://localhost:8080/"
        },
        "id": "sivojJWhZLAE",
        "outputId": "d9a605e6-9980-41dc-deaa-f8c543f93269"
      },
      "execution_count": null,
      "outputs": [
        {
          "output_type": "stream",
          "name": "stdout",
          "text": [
            "enter the num: 10\n",
            "8\n"
          ]
        }
      ]
    },
    {
      "cell_type": "markdown",
      "source": [
        "**8.STRONG NUMBER**\n",
        "Input : 145\n",
        "Output : It's a Strong Number.\n",
        "Explanation : Number = 145\n",
        "145 = 1! + 4! + 5!\n",
        "145 = 1 + 24 + 120"
      ],
      "metadata": {
        "id": "D5UCPCxDfsXK"
      }
    },
    {
      "cell_type": "code",
      "source": [
        "import math\n",
        "n=int(input())\n",
        "m=n\n",
        "sum=0\n",
        "while m!=0:\n",
        "  d=m%10\n",
        "  sum=sum+(math.factorial(d))\n",
        "  m=m//10\n",
        "if(sum==n):\n",
        "  print(\"strorng\")\n",
        "else:\n",
        "  print(\"not strong\")\n",
        "\n"
      ],
      "metadata": {
        "colab": {
          "base_uri": "https://localhost:8080/"
        },
        "id": "snanyDEXgWcL",
        "outputId": "0eb1f690-7d5a-4250-ebd0-666c8753ff48"
      },
      "execution_count": null,
      "outputs": [
        {
          "output_type": "stream",
          "name": "stdout",
          "text": [
            "145\n",
            "strorng\n"
          ]
        }
      ]
    },
    {
      "cell_type": "markdown",
      "source": [
        "****"
      ],
      "metadata": {
        "id": "Xpk9iEih57SN"
      }
    },
    {
      "cell_type": "markdown",
      "source": [],
      "metadata": {
        "id": "aUferpN2iSOf"
      }
    }
  ]
}