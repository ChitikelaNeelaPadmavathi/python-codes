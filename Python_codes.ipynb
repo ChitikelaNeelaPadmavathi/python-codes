{
  "nbformat": 4,
  "nbformat_minor": 0,
  "metadata": {
    "colab": {
      "provenance": [],
      "authorship_tag": "ABX9TyNVmOMO/f+L3lAWMTh+ERIr",
      "include_colab_link": true
    },
    "kernelspec": {
      "name": "python3",
      "display_name": "Python 3"
    },
    "language_info": {
      "name": "python"
    }
  },
  "cells": [
    {
      "cell_type": "markdown",
      "metadata": {
        "id": "view-in-github",
        "colab_type": "text"
      },
      "source": [
        "<a href=\"https://colab.research.google.com/github/ChitikelaNeelaPadmavathi/python-codes/blob/main/Python_codes.ipynb\" target=\"_parent\"><img src=\"https://colab.research.google.com/assets/colab-badge.svg\" alt=\"Open In Colab\"/></a>"
      ]
    },
    {
      "cell_type": "markdown",
      "source": [
        "#1.AUTOMORPHIC CODE\n",
        "Example:if we take 0ne number then we can find the square number for that then we can that 1's palce number is equal to given number if same IT IS A AUOMORPHIC NUMBER"
      ],
      "metadata": {
        "id": "v5pKbB0jxyy8"
      }
    },
    {
      "cell_type": "markdown",
      "source": [],
      "metadata": {
        "id": "_UvpzVZHMOvX"
      }
    },
    {
      "cell_type": "code",
      "source": [
        "n=int(input ())\n",
        "m=n*n\n",
        "num=m%10\n",
        "if num==n:\n",
        "    print (\"It is a automorhic number\")\n",
        "else:\n",
        "    print(\"It is not automorhic\")"
      ],
      "metadata": {
        "colab": {
          "base_uri": "https://localhost:8080/"
        },
        "id": "Ywt-ExpOyZBl",
        "outputId": "26db1381-0052-4f86-9fe4-a22e4f7c25da"
      },
      "execution_count": null,
      "outputs": [
        {
          "output_type": "stream",
          "name": "stdout",
          "text": [
            "7\n",
            "It is not automorhic\n"
          ]
        }
      ]
    },
    {
      "cell_type": "markdown",
      "source": [
        "#2. ABUNDANT CODE\n",
        "Example:we take one number then we check factors of that number then summ all the factors then we check sum is grater than give number then it is abundant number\n",
        "N=12\n",
        "Factors:1+2+3+4+6=16 so it is abundant number"
      ],
      "metadata": {
        "id": "0nYYWHtZzQ9D"
      }
    },
    {
      "cell_type": "code",
      "source": [
        "n=int(input ())\n",
        "sum=0\n",
        "for i in range (1,n):\n",
        "    if n%i==0:\n",
        "        sum=sum+i\n",
        "if sum>n:\n",
        "    print(\"ABUNDANT NUMBER\")\n",
        "else:\n",
        "    print(\"Not a ABUNDANT NUMBER\")"
      ],
      "metadata": {
        "colab": {
          "base_uri": "https://localhost:8080/"
        },
        "id": "HfIoMJ3kz7d3",
        "outputId": "7477df4d-5f3e-4ea0-90cf-39ca8c9d8131"
      },
      "execution_count": null,
      "outputs": [
        {
          "output_type": "stream",
          "name": "stdout",
          "text": [
            "12\n",
            "ABUNDANT NUMBER\n"
          ]
        }
      ]
    },
    {
      "cell_type": "markdown",
      "source": [
        "#3.PERFECT NUMBER"
      ],
      "metadata": {
        "id": "4DKNoi9I-_du"
      }
    },
    {
      "cell_type": "code",
      "source": [
        "n=int(input ())\n",
        "sum=0\n",
        "for i in range (1,n):\n",
        "    if n%i==0:\n",
        "        sum=sum+i\n",
        "if sum==n:\n",
        "    print(\"perfect NUMBER\")\n",
        "else:\n",
        "    print(\"Not a perfect NUMBER\")"
      ],
      "metadata": {
        "colab": {
          "base_uri": "https://localhost:8080/"
        },
        "id": "UqJMC0EN_F3W",
        "outputId": "a374c99d-8af8-4a37-8cc6-a1ec6335b4fc"
      },
      "execution_count": null,
      "outputs": [
        {
          "output_type": "stream",
          "name": "stdout",
          "text": [
            "12\n",
            "Not a perfect NUMBER\n"
          ]
        }
      ]
    },
    {
      "cell_type": "markdown",
      "source": [
        "#4.HARSHARD NUMBER\n",
        "example:we can two digit number then we can divide that number and add then we can check sum is divisible by give number or not"
      ],
      "metadata": {
        "id": "ly79COU410xa"
      }
    },
    {
      "cell_type": "code",
      "source": [
        "n=int(input ())\n",
        "p=n\n",
        "sum=0\n",
        "while(n>0):\n",
        "    rem=n%10\n",
        "    sum=sum+rem\n",
        "    n=n//10\n",
        "if p%sum==0:\n",
        "    print(\"yes\")\n",
        "else:\n",
        "    print (\"No\")"
      ],
      "metadata": {
        "colab": {
          "base_uri": "https://localhost:8080/"
        },
        "id": "ictgw-ws3kqz",
        "outputId": "ae891b8b-7444-43b3-e132-8eba8295c74f"
      },
      "execution_count": null,
      "outputs": [
        {
          "output_type": "stream",
          "name": "stdout",
          "text": [
            "19\n",
            "No\n"
          ]
        }
      ]
    },
    {
      "cell_type": "markdown",
      "source": [
        "#5.PERFECT SQUARE\n",
        "example:25 is perfect\n",
        "23 is not a perfect"
      ],
      "metadata": {
        "id": "DYANDe0u4qP8"
      }
    },
    {
      "cell_type": "code",
      "source": [
        "n=int(input ())\n",
        "for i in range (n):\n",
        "    if i*i==n:\n",
        "        print(\"Perfect square\")\n",
        "        break\n",
        "else:\n",
        "    print(\"Not a perfect\")"
      ],
      "metadata": {
        "colab": {
          "base_uri": "https://localhost:8080/"
        },
        "id": "bmi6T_UUAO8g",
        "outputId": "7438fb09-265d-487c-8847-d85e078d57e6"
      },
      "execution_count": null,
      "outputs": [
        {
          "output_type": "stream",
          "name": "stdout",
          "text": [
            "3\n",
            "Not a perfect\n"
          ]
        }
      ]
    },
    {
      "cell_type": "markdown",
      "source": [
        "#6.FRIENDLY PAIR\n",
        "if we take two numbers 6 and 8\n",
        "\n",
        "factors of 6=1+2+3=6/6=1 and 28=1+2+7+14=28/28=1\n",
        "\n",
        "1=1 so it is a friendly pair"
      ],
      "metadata": {
        "id": "A5BwWBs0MQIq"
      }
    },
    {
      "cell_type": "code",
      "source": [
        "n1=int(input())\n",
        "n2=int(input())\n",
        "sum1=0\n",
        "sum2=0\n",
        "for i in range(1,n1):\n",
        "    if n1%i==0:\n",
        "        sum1=sum1+i\n",
        "        for j in range(1,n2):\n",
        "            if n2%j==0:\n",
        "                sum2=sum2+i\n",
        "if sum1//n1==sum2//n2:\n",
        "    print(\"friendly pair\")\n",
        "else:\n",
        "    print(\"not friendly pair\")"
      ],
      "metadata": {
        "colab": {
          "base_uri": "https://localhost:8080/"
        },
        "id": "4cIWjQNvMVby",
        "outputId": "bd2afda2-6d96-43c2-ecd0-9c16796380c0"
      },
      "execution_count": null,
      "outputs": [
        {
          "output_type": "stream",
          "name": "stdout",
          "text": [
            "6\n",
            "28\n",
            "friendly pair\n"
          ]
        }
      ]
    },
    {
      "cell_type": "markdown",
      "source": [
        "#7.VOWELS AND CONSONANTS"
      ],
      "metadata": {
        "id": "U-he92eW5_9r"
      }
    },
    {
      "cell_type": "code",
      "source": [
        "c=input ()\n",
        "if(c=='a' or c=='e'or c=='i' or c=='o' or c=='u' or c=='A' or c=='E' or c=='I' or c=='O' or c=='U'):\n",
        "    print(\"Vowels\")\n",
        "else:\n",
        "    print(\"Consonant\")"
      ],
      "metadata": {
        "colab": {
          "base_uri": "https://localhost:8080/"
        },
        "id": "dM-o3_gl60CF",
        "outputId": "d95e105d-5932-4109-c080-73e7f74563c5"
      },
      "execution_count": null,
      "outputs": [
        {
          "output_type": "stream",
          "name": "stdout",
          "text": [
            "g\n",
            "Consonant\n"
          ]
        }
      ]
    },
    {
      "cell_type": "markdown",
      "source": [
        "#8.COUNT OF VOWELS AND CONSONANT"
      ],
      "metadata": {
        "id": "aS6UhiLW7-3L"
      }
    },
    {
      "cell_type": "code",
      "source": [
        "b=input ()\n",
        "v=0\n",
        "c=0\n",
        "for i in b:\n",
        "     if(i=='a' or i=='e'or i=='i' or i=='o' or i=='u' or i=='A' or i=='E' or i=='I' or i=='O' or i=='U'):\n",
        "         v+=1\n",
        "     else:\n",
        "         c+=1\n",
        "print(\"vowels:\",v)\n",
        "print(\"Consonant:\",c)"
      ],
      "metadata": {
        "colab": {
          "base_uri": "https://localhost:8080/"
        },
        "id": "lg9I_LCj8pIm",
        "outputId": "b1d305c6-af3f-4c63-fd79-cc7d15be193f"
      },
      "execution_count": null,
      "outputs": [
        {
          "output_type": "stream",
          "name": "stdout",
          "text": [
            "Neelu\n",
            "vowels: 3\n",
            "Consonant: 2\n"
          ]
        }
      ]
    },
    {
      "cell_type": "markdown",
      "source": [
        "#9.ALPHABET OR NOT\n",
        "Here \"ord\" is used to follow the order of alphabet bansed on the order we can print ascii value"
      ],
      "metadata": {
        "id": "0gZKUBX--cqE"
      }
    },
    {
      "cell_type": "code",
      "source": [
        "ch=input ()\n",
        "if('a'<=ch<='z' or 'A'<=ch<='Z'):\n",
        "    print(\"Alpha\")\n",
        "else:\n",
        "    print(\"Not Alpha\")"
      ],
      "metadata": {
        "colab": {
          "base_uri": "https://localhost:8080/"
        },
        "id": "OYgJ7fYY_ERt",
        "outputId": "8a75b776-a490-47c0-dc7f-05d8fe3983cb"
      },
      "execution_count": null,
      "outputs": [
        {
          "output_type": "stream",
          "name": "stdout",
          "text": [
            "63\n",
            "Not Alpha\n"
          ]
        }
      ]
    },
    {
      "cell_type": "markdown",
      "source": [
        "#10.ASCII VALUE\n",
        "(A toZ):65-90\n",
        "(a to z):97-122"
      ],
      "metadata": {
        "id": "UWkT8oQbAGaw"
      }
    },
    {
      "cell_type": "code",
      "source": [
        "a=input ()\n",
        "b=ord(a)\n",
        "print(b)"
      ],
      "metadata": {
        "colab": {
          "base_uri": "https://localhost:8080/"
        },
        "id": "thfrDnukAxE3",
        "outputId": "d068d924-68e6-4975-8767-9f3633e22bb9"
      },
      "execution_count": null,
      "outputs": [
        {
          "output_type": "stream",
          "name": "stdout",
          "text": [
            "A\n",
            "65\n"
          ]
        }
      ]
    },
    {
      "cell_type": "markdown",
      "source": [
        "#11.LENGTH OF STRING"
      ],
      "metadata": {
        "id": "gfXYHsfiBGeQ"
      }
    },
    {
      "cell_type": "code",
      "source": [
        "S=input ()\n",
        "l=0\n",
        "for i in S:\n",
        "    l+=1\n",
        "print (\"Length:\",l)"
      ],
      "metadata": {
        "colab": {
          "base_uri": "https://localhost:8080/"
        },
        "id": "PRChlNqLBGou",
        "outputId": "2b053d3b-5022-4739-926c-540ca6a9f07c"
      },
      "execution_count": null,
      "outputs": [
        {
          "output_type": "stream",
          "name": "stdout",
          "text": [
            "Hjkf\n",
            "Length: 4\n"
          ]
        }
      ]
    },
    {
      "cell_type": "markdown",
      "source": [
        "#12.SORTING AN ARRAY"
      ],
      "metadata": {
        "id": "bsocaoG3CJmr"
      }
    },
    {
      "cell_type": "code",
      "source": [
        "A=[23,4,6]\n",
        "A.sort()\n",
        "print (A)"
      ],
      "metadata": {
        "colab": {
          "base_uri": "https://localhost:8080/"
        },
        "id": "sWxWJ_9nCJ1-",
        "outputId": "da17ce99-ad71-4795-f00a-2040ea5964dd"
      },
      "execution_count": null,
      "outputs": [
        {
          "output_type": "stream",
          "name": "stdout",
          "text": [
            "[4, 6, 23]\n"
          ]
        }
      ]
    },
    {
      "cell_type": "code",
      "source": [
        "#here by using sorted\n",
        "A=[4,1,6,2]\n",
        "B=sorted(A)\n",
        "print(B)"
      ],
      "metadata": {
        "colab": {
          "base_uri": "https://localhost:8080/"
        },
        "id": "dgKKb4WADc-J",
        "outputId": "92ff8184-ba4c-483b-df37-ee0f03fe8ef3"
      },
      "execution_count": null,
      "outputs": [
        {
          "output_type": "stream",
          "name": "stdout",
          "text": [
            "[1, 2, 4, 6]\n"
          ]
        }
      ]
    },
    {
      "cell_type": "markdown",
      "source": [
        "#13.SWAP LOWER TO UPPER UPPER TO LOWER"
      ],
      "metadata": {
        "id": "PEWPC3R9Dq42"
      }
    },
    {
      "cell_type": "code",
      "source": [
        "str=(input ())\n",
        "print(str.swapcase())"
      ],
      "metadata": {
        "colab": {
          "base_uri": "https://localhost:8080/"
        },
        "id": "lDFVuhuiDr7v",
        "outputId": "a8911362-c3b5-4589-e870-14cac0df90b2"
      },
      "execution_count": null,
      "outputs": [
        {
          "output_type": "stream",
          "name": "stdout",
          "text": [
            "NeeLu\n",
            "nEElU\n"
          ]
        }
      ]
    },
    {
      "cell_type": "markdown",
      "source": [
        "#14.PLAINDROME"
      ],
      "metadata": {
        "id": "m0K5LyA3VgKm"
      }
    },
    {
      "cell_type": "code",
      "source": [
        "\n",
        "str = input()\n",
        "if str==str[::-1]:\n",
        "    print(\"Palindrome\")\n",
        "else:\n",
        "    print(\"Not a palindrome\")"
      ],
      "metadata": {
        "colab": {
          "base_uri": "https://localhost:8080/"
        },
        "id": "JaCAYlGmWuKl",
        "outputId": "fcd865d2-9cf1-444a-e799-6a9614850543"
      },
      "execution_count": 25,
      "outputs": [
        {
          "output_type": "stream",
          "name": "stdout",
          "text": [
            "Neelu\n",
            "Not a palindrome\n"
          ]
        }
      ]
    },
    {
      "cell_type": "markdown",
      "source": [
        "#15.REVERSE A STRING"
      ],
      "metadata": {
        "id": "sLenLWNpW231"
      }
    },
    {
      "cell_type": "code",
      "source": [
        "str = input()\n",
        "str=str[::-1]\n",
        "print(str)"
      ],
      "metadata": {
        "colab": {
          "base_uri": "https://localhost:8080/"
        },
        "id": "NdckOK21W_OS",
        "outputId": "f1334360-f0cb-4231-dc03-e21a24b2fb1e"
      },
      "execution_count": 26,
      "outputs": [
        {
          "output_type": "stream",
          "name": "stdout",
          "text": [
            "Abc\n",
            "cbA\n"
          ]
        }
      ]
    }
  ]
}