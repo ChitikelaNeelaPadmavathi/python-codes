{
  "nbformat": 4,
  "nbformat_minor": 0,
  "metadata": {
    "colab": {
      "provenance": [],
      "authorship_tag": "ABX9TyPj8djWouAXLqcvfkHbJ8m9",
      "include_colab_link": true
    },
    "kernelspec": {
      "name": "python3",
      "display_name": "Python 3"
    },
    "language_info": {
      "name": "python"
    }
  },
  "cells": [
    {
      "cell_type": "markdown",
      "metadata": {
        "id": "view-in-github",
        "colab_type": "text"
      },
      "source": [
        "<a href=\"https://colab.research.google.com/github/ChitikelaNeelaPadmavathi/python-codes/blob/main/Python_codes.ipynb\" target=\"_parent\"><img src=\"https://colab.research.google.com/assets/colab-badge.svg\" alt=\"Open In Colab\"/></a>"
      ]
    },
    {
      "cell_type": "markdown",
      "source": [
        "#1.AUTOMORPHIC CODE\n",
        "Example:if we take 0ne number then we can find the square number for that then we can that 1's palce number is equal to given number if same IT IS A AUOMORPHIC NUMBER"
      ],
      "metadata": {
        "id": "v5pKbB0jxyy8"
      }
    },
    {
      "cell_type": "markdown",
      "source": [],
      "metadata": {
        "id": "_UvpzVZHMOvX"
      }
    },
    {
      "cell_type": "code",
      "source": [
        "n=int(input ())\n",
        "m=n*n\n",
        "num=m%10\n",
        "if num==n:\n",
        "    print (\"It is a automorhic number\")\n",
        "else:\n",
        "    print(\"It is not automorhic\")"
      ],
      "metadata": {
        "colab": {
          "base_uri": "https://localhost:8080/"
        },
        "id": "Ywt-ExpOyZBl",
        "outputId": "26db1381-0052-4f86-9fe4-a22e4f7c25da"
      },
      "execution_count": null,
      "outputs": [
        {
          "output_type": "stream",
          "name": "stdout",
          "text": [
            "7\n",
            "It is not automorhic\n"
          ]
        }
      ]
    },
    {
      "cell_type": "markdown",
      "source": [
        "#2. ABUNDANT CODE\n",
        "Example:we take one number then we check factors of that number then summ all the factors then we check sum is grater than give number then it is abundant number\n",
        "N=12\n",
        "Factors:1+2+3+4+6=16 so it is abundant number"
      ],
      "metadata": {
        "id": "0nYYWHtZzQ9D"
      }
    },
    {
      "cell_type": "code",
      "source": [
        "n=int(input ())\n",
        "sum=0\n",
        "for i in range (1,n):\n",
        "    if n%i==0:\n",
        "        sum=sum+i\n",
        "if sum>n:\n",
        "    print(\"ABUNDANT NUMBER\")\n",
        "else:\n",
        "    print(\"Not a ABUNDANT NUMBER\")"
      ],
      "metadata": {
        "colab": {
          "base_uri": "https://localhost:8080/"
        },
        "id": "HfIoMJ3kz7d3",
        "outputId": "7477df4d-5f3e-4ea0-90cf-39ca8c9d8131"
      },
      "execution_count": null,
      "outputs": [
        {
          "output_type": "stream",
          "name": "stdout",
          "text": [
            "12\n",
            "ABUNDANT NUMBER\n"
          ]
        }
      ]
    },
    {
      "cell_type": "markdown",
      "source": [
        "#3.PERFECT NUMBER"
      ],
      "metadata": {
        "id": "4DKNoi9I-_du"
      }
    },
    {
      "cell_type": "code",
      "source": [
        "n=int(input ())\n",
        "sum=0\n",
        "for i in range (1,n):\n",
        "    if n%i==0:\n",
        "        sum=sum+i\n",
        "if sum==n:\n",
        "    print(\"perfect NUMBER\")\n",
        "else:\n",
        "    print(\"Not a perfect NUMBER\")"
      ],
      "metadata": {
        "colab": {
          "base_uri": "https://localhost:8080/"
        },
        "id": "UqJMC0EN_F3W",
        "outputId": "a374c99d-8af8-4a37-8cc6-a1ec6335b4fc"
      },
      "execution_count": null,
      "outputs": [
        {
          "output_type": "stream",
          "name": "stdout",
          "text": [
            "12\n",
            "Not a perfect NUMBER\n"
          ]
        }
      ]
    },
    {
      "cell_type": "markdown",
      "source": [
        "#4.HARSHARD NUMBER\n",
        "example:we can two digit number then we can divide that number and add then we can check sum is divisible by give number or not"
      ],
      "metadata": {
        "id": "ly79COU410xa"
      }
    },
    {
      "cell_type": "code",
      "source": [
        "n=int(input ())\n",
        "p=n\n",
        "sum=0\n",
        "while(n>0):\n",
        "    rem=n%10\n",
        "    sum=sum+rem\n",
        "    n=n//10\n",
        "if p%sum==0:\n",
        "    print(\"yes\")\n",
        "else:\n",
        "    print (\"No\")"
      ],
      "metadata": {
        "colab": {
          "base_uri": "https://localhost:8080/"
        },
        "id": "ictgw-ws3kqz",
        "outputId": "ae891b8b-7444-43b3-e132-8eba8295c74f"
      },
      "execution_count": null,
      "outputs": [
        {
          "output_type": "stream",
          "name": "stdout",
          "text": [
            "19\n",
            "No\n"
          ]
        }
      ]
    },
    {
      "cell_type": "markdown",
      "source": [
        "#5.PERFECT SQUARE\n",
        "example:25 is perfect\n",
        "23 is not a perfect"
      ],
      "metadata": {
        "id": "DYANDe0u4qP8"
      }
    },
    {
      "cell_type": "code",
      "source": [
        "n=int(input ())\n",
        "for i in range (n):\n",
        "    if i*i==n:\n",
        "        print(\"Perfect square\")\n",
        "        break\n",
        "else:\n",
        "    print(\"Not a perfect\")"
      ],
      "metadata": {
        "colab": {
          "base_uri": "https://localhost:8080/"
        },
        "id": "bmi6T_UUAO8g",
        "outputId": "7438fb09-265d-487c-8847-d85e078d57e6"
      },
      "execution_count": null,
      "outputs": [
        {
          "output_type": "stream",
          "name": "stdout",
          "text": [
            "3\n",
            "Not a perfect\n"
          ]
        }
      ]
    },
    {
      "cell_type": "markdown",
      "source": [
        "#friendly pair\n",
        "if we take two numbers 6 and 8\n",
        "\n",
        "factors of 6=1+2+3=6/6=1 and 28=1+2+7+14=28/28=1\n",
        "\n",
        "1=1 so it is a friendly pair\n"
      ],
      "metadata": {
        "id": "A5BwWBs0MQIq"
      }
    },
    {
      "cell_type": "code",
      "source": [
        "n1=int(input())\n",
        "n2=int(input())\n",
        "sum1=0\n",
        "sum2=0\n",
        "for i in range(1,n1):\n",
        "    if n1%i==0:\n",
        "        sum1=sum1+i\n",
        "        for j in range(1,n2):\n",
        "            if n2%j==0:\n",
        "                sum2=sum2+i\n",
        "if sum1//n1==sum2//n2:\n",
        "    print(\"friendly pair\")\n",
        "else:\n",
        "    print(\"not friendly pair\")\n",
        ""
      ],
      "metadata": {
        "colab": {
          "base_uri": "https://localhost:8080/"
        },
        "id": "4cIWjQNvMVby",
        "outputId": "bd2afda2-6d96-43c2-ecd0-9c16796380c0"
      },
      "execution_count": 32,
      "outputs": [
        {
          "output_type": "stream",
          "name": "stdout",
          "text": [
            "6\n",
            "28\n",
            "friendly pair\n"
          ]
        }
      ]
    }
  ]
}