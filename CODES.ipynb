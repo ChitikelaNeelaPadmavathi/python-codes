{
  "nbformat": 4,
  "nbformat_minor": 0,
  "metadata": {
    "colab": {
      "provenance": [],
      "authorship_tag": "ABX9TyPYxzqX3dFDaRPZocJH5oO4",
      "include_colab_link": true
    },
    "kernelspec": {
      "name": "python3",
      "display_name": "Python 3"
    },
    "language_info": {
      "name": "python"
    }
  },
  "cells": [
    {
      "cell_type": "markdown",
      "metadata": {
        "id": "view-in-github",
        "colab_type": "text"
      },
      "source": [
        "<a href=\"https://colab.research.google.com/github/ChitikelaNeelaPadmavathi/python-codes/blob/main/CODES.ipynb\" target=\"_parent\"><img src=\"https://colab.research.google.com/assets/colab-badge.svg\" alt=\"Open In Colab\"/></a>"
      ]
    },
    {
      "cell_type": "markdown",
      "source": [
        "#1.PALINDROME"
      ],
      "metadata": {
        "id": "ozu0AiUzdErE"
      }
    },
    {
      "cell_type": "code",
      "source": [
        "s=int(input ())\n",
        "reverse=int(str(s)[::-1])\n",
        "if s==reverse:\n",
        "    print (\"palindrome\")\n",
        "else:\n",
        "    print (\"not a palindrome \")"
      ],
      "metadata": {
        "colab": {
          "base_uri": "https://localhost:8080/"
        },
        "id": "16FFPDPCdHy3",
        "outputId": "e12f683e-f3dc-489b-e8df-7da7e97641b0"
      },
      "execution_count": null,
      "outputs": [
        {
          "output_type": "stream",
          "name": "stdout",
          "text": [
            "34567\n",
            "not a palindrome \n"
          ]
        }
      ]
    },
    {
      "cell_type": "code",
      "source": [
        "\n",
        "def is_palindrome(string):\n",
        "    string = string.lower().replace(\" \", \"\")  # Convert to lowercase and remove spaces\n",
        "    return string == string[::-1]  # Check if the processed string is the same when reversed\n",
        "\n",
        "# Get user input\n",
        "s = input(\"Enter a string: \")\n",
        "\n",
        "# Check and print the result\n",
        "if is_palindrome(s):\n",
        "    print(\"Palindrome\")\n",
        "else:\n",
        "    print(\"Not a palindrome\")"
      ],
      "metadata": {
        "id": "qK0h72o9j5AF",
        "outputId": "c238bf63-7cd4-4d02-8b19-70b8037fa28e",
        "colab": {
          "base_uri": "https://localhost:8080/"
        }
      },
      "execution_count": null,
      "outputs": [
        {
          "output_type": "stream",
          "name": "stdout",
          "text": [
            "Enter a string: Gdrhj\n",
            "Not a palindrome\n"
          ]
        }
      ]
    },
    {
      "cell_type": "markdown",
      "source": [
        "**2.AMSTRONG NUMBER**\n"
      ],
      "metadata": {
        "id": "QX3bkxYCrojR"
      }
    },
    {
      "cell_type": "code",
      "source": [
        "num=int(input())\n",
        "digits=str(num)\n",
        "num_digit=len(digits)\n",
        "amstrong_sum=0\n",
        "for i in digits:\n",
        "  amstrong_sum+=int(i)**num_digit\n",
        "if amstrong_sum==num:\n",
        "    print(\"It is Amstrong\")\n",
        "else:\n",
        "    print(\"It is not a amstrong number\")\n",
        "\n"
      ],
      "metadata": {
        "id": "MsoZ01RCuaPT",
        "colab": {
          "base_uri": "https://localhost:8080/"
        },
        "outputId": "92c5fc70-0196-4db9-e78a-5affbc27e7f8"
      },
      "execution_count": null,
      "outputs": [
        {
          "output_type": "stream",
          "name": "stdout",
          "text": [
            "153\n",
            "It is Amstrong\n"
          ]
        }
      ]
    },
    {
      "cell_type": "code",
      "source": [
        "n=int(input())\n",
        "m=n\n",
        "sum=0\n",
        "while m!=0:\n",
        "  d=m%10\n",
        "  sum=sum+(d**3)\n",
        "  m=m//10\n",
        "if(sum==n):\n",
        "  print(\"amstrong\")\n",
        "else:\n",
        "  print(\"not amstrong\")\n"
      ],
      "metadata": {
        "colab": {
          "base_uri": "https://localhost:8080/"
        },
        "id": "_UzYoYIIYHjZ",
        "outputId": "9f3225fa-a944-43eb-fb1b-3645e886ce70"
      },
      "execution_count": null,
      "outputs": [
        {
          "output_type": "stream",
          "name": "stdout",
          "text": [
            "5667\n",
            "not amstrong\n"
          ]
        }
      ]
    },
    {
      "cell_type": "markdown",
      "source": [
        "**3.FIBONACCI SERIES**"
      ],
      "metadata": {
        "id": "byMog9cqucBx"
      }
    },
    {
      "cell_type": "code",
      "source": [
        "num=int(input())\n",
        "n1,n2=0,1\n",
        "print(\"fibanacii:\",n1,n2,end=\" \")\n",
        "for i in range(2,num):\n",
        "  n3=n1+n2\n",
        "  n1=n2\n",
        "  n2=n3\n",
        "  print(n3,end=\" \")"
      ],
      "metadata": {
        "colab": {
          "base_uri": "https://localhost:8080/"
        },
        "id": "jxdmNFgqwn1F",
        "outputId": "68ac84db-a4ec-4639-fb5b-3ccca5395f32"
      },
      "execution_count": null,
      "outputs": [
        {
          "output_type": "stream",
          "name": "stdout",
          "text": [
            "10\n",
            "fibanacii: 0 1 1 2 3 5 8 13 21 34 "
          ]
        }
      ]
    },
    {
      "cell_type": "code",
      "source": [],
      "metadata": {
        "id": "O9dWRtWLyAg5"
      },
      "execution_count": null,
      "outputs": []
    },
    {
      "cell_type": "markdown",
      "source": [
        "**4.FACTORIAL NUMBER**"
      ],
      "metadata": {
        "id": "hyvfTePaxsTV"
      }
    },
    {
      "cell_type": "code",
      "source": [
        "num=int(input())\n",
        "fact=1\n",
        "for i in range(1,num+1):\n",
        "  fact=fact*i\n",
        "print(fact)"
      ],
      "metadata": {
        "colab": {
          "base_uri": "https://localhost:8080/"
        },
        "id": "fuebN0DAxriK",
        "outputId": "7157c7c4-6f1b-4cae-ca97-c07408aa165c"
      },
      "execution_count": null,
      "outputs": [
        {
          "output_type": "stream",
          "name": "stdout",
          "text": [
            "5\n",
            "120\n"
          ]
        }
      ]
    },
    {
      "cell_type": "markdown",
      "source": [
        "**5.POWER OF A NUMBER**"
      ],
      "metadata": {
        "id": "OGoPns7TzL64"
      }
    },
    {
      "cell_type": "code",
      "source": [
        "num=int(input())\n",
        "b=num*2\n",
        "print(b)"
      ],
      "metadata": {
        "colab": {
          "base_uri": "https://localhost:8080/"
        },
        "id": "t9gj7DmPz126",
        "outputId": "1a12d63a-2443-49c0-90f8-c774e51996d5"
      },
      "execution_count": null,
      "outputs": [
        {
          "output_type": "stream",
          "name": "stdout",
          "text": [
            "5\n",
            "10\n"
          ]
        }
      ]
    },
    {
      "cell_type": "markdown",
      "source": [
        "**6.FACTORS OF A NUMBER**"
      ],
      "metadata": {
        "id": "mTgKHfFt2GFC"
      }
    },
    {
      "cell_type": "code",
      "source": [
        "num=int(input())\n",
        "for i in range(1,num+1):\n",
        "  if num%i==0:\n",
        "    print(i,end=\" \")\n",
        "\n",
        "\n",
        "\n"
      ],
      "metadata": {
        "colab": {
          "base_uri": "https://localhost:8080/"
        },
        "id": "pS8gcseR2NeR",
        "outputId": "6e31afa8-8dce-4185-912a-1c5e8ac998c9"
      },
      "execution_count": null,
      "outputs": [
        {
          "output_type": "stream",
          "name": "stdout",
          "text": [
            "8\n",
            "1 2 4 8 "
          ]
        }
      ]
    },
    {
      "cell_type": "markdown",
      "source": [
        "**7.SUM OF PRIME NUMBERS**"
      ],
      "metadata": {
        "id": "qWuL5wBiVl3i"
      }
    },
    {
      "cell_type": "code",
      "source": [
        "num = int(input(\"enter the num: \"))\n",
        "sum = 0\n",
        "for i in range(1,10):\n",
        "     if num % i == 0:\n",
        "          sum = sum + i\n",
        "print(sum)"
      ],
      "metadata": {
        "colab": {
          "base_uri": "https://localhost:8080/"
        },
        "id": "sivojJWhZLAE",
        "outputId": "d9a605e6-9980-41dc-deaa-f8c543f93269"
      },
      "execution_count": null,
      "outputs": [
        {
          "output_type": "stream",
          "name": "stdout",
          "text": [
            "enter the num: 10\n",
            "8\n"
          ]
        }
      ]
    },
    {
      "cell_type": "markdown",
      "source": [
        "**8.STRONG NUMBER**\n",
        "Input : 145\n",
        "Output : It's a Strong Number.\n",
        "Explanation : Number = 145\n",
        "145 = 1! + 4! + 5!\n",
        "145 = 1 + 24 + 120"
      ],
      "metadata": {
        "id": "D5UCPCxDfsXK"
      }
    },
    {
      "cell_type": "code",
      "source": [
        "import math\n",
        "n=int(input())\n",
        "m=n\n",
        "sum=0\n",
        "while m!=0:\n",
        "  d=m%10\n",
        "  sum=sum+(math.factorial(d))\n",
        "  m=m//10\n",
        "if(sum==n):\n",
        "  print(\"strorng\")\n",
        "else:\n",
        "  print(\"not strong\")\n",
        "\n"
      ],
      "metadata": {
        "colab": {
          "base_uri": "https://localhost:8080/"
        },
        "id": "snanyDEXgWcL",
        "outputId": "0eb1f690-7d5a-4250-ebd0-666c8753ff48"
      },
      "execution_count": null,
      "outputs": [
        {
          "output_type": "stream",
          "name": "stdout",
          "text": [
            "145\n",
            "strorng\n"
          ]
        }
      ]
    },
    {
      "cell_type": "markdown",
      "source": [
        "****"
      ],
      "metadata": {
        "id": "Xpk9iEih57SN"
      }
    },
    {
      "cell_type": "markdown",
      "source": [
        "**9.PERFECT NUMBER**\n",
        "Input : 28\n",
        "Divisors : [1, 2, 4, 7, 14]\n",
        "Sum = 1 + 2 + 4 + 7 + 14 = 28\n",
        "Output : It's a Perfect Number\n"
      ],
      "metadata": {
        "id": "aUferpN2iSOf"
      }
    },
    {
      "cell_type": "code",
      "source": [
        "n = int(input())\n",
        "sum = 0\n",
        "for i in range(1, n):\n",
        "    if n % i == 0:\n",
        "        sum = sum + i\n",
        "if sum == n:\n",
        "    print(f\"{n} is a Perfect number\")\n",
        "else:\n",
        "    print(f\"{n} is not a Perfect number\")"
      ],
      "metadata": {
        "colab": {
          "base_uri": "https://localhost:8080/"
        },
        "id": "eTYM_GNTPqZd",
        "outputId": "b40b3ad9-553d-4ba1-c965-99148a8c6a06"
      },
      "execution_count": 9,
      "outputs": [
        {
          "output_type": "stream",
          "name": "stdout",
          "text": [
            "28\n",
            "28 is a Perfect number\n"
          ]
        }
      ]
    },
    {
      "cell_type": "markdown",
      "source": [
        "**10 AUTOMORPHIC NUMBER**\n",
        "Explanation : Number = 5\n",
        "Square of number = 25\n",
        "as the square of the number ends with the number itself, It's an Automorphic number."
      ],
      "metadata": {
        "id": "OiYLoYEtQ2nt"
      }
    },
    {
      "cell_type": "code",
      "source": [
        "num=int(input())\n",
        "b=num*num\n",
        "if str(b).endswith(str(num)):\n",
        "  print(\"automorphic\")\n",
        "else:\n",
        "    print(\"not automorphic\")\n",
        ""
      ],
      "metadata": {
        "colab": {
          "base_uri": "https://localhost:8080/"
        },
        "id": "5Kqj5_ObROsj",
        "outputId": "ebcc3a1a-b929-4136-d18b-5916fc6465c0"
      },
      "execution_count": 17,
      "outputs": [
        {
          "output_type": "stream",
          "name": "stdout",
          "text": [
            "4\n",
            "not automorphic\n"
          ]
        }
      ]
    },
    {
      "cell_type": "markdown",
      "source": [
        "**11.HAESHAD NUMBER**\n",
        "Example\n",
        "Input : 21\n",
        "Output : Yes ' It's a Harshad Number.\n",
        "Explanation : The sum of the digits of 21 is 3 i.e 2 + 1. As the number 21 is divisible by 3, It's a Harshad Number."
      ],
      "metadata": {
        "id": "2tyeejLCURVD"
      }
    },
    {
      "cell_type": "code",
      "source": [
        "n =int(input())\n",
        "p=n\n",
        "sum1=0\n",
        "while(n>0):\n",
        "    sum1+=n%10\n",
        "    n=n//10\n",
        "if(p%sum1==0):\n",
        "    print(\"Harshad number\")\n",
        "else:\n",
        "    print(\"Not harshad number\")"
      ],
      "metadata": {
        "colab": {
          "base_uri": "https://localhost:8080/"
        },
        "id": "ahLypCXqX3-A",
        "outputId": "62dd2895-94cc-48eb-d52a-e923d27b1ede"
      },
      "execution_count": 25,
      "outputs": [
        {
          "output_type": "stream",
          "name": "stdout",
          "text": [
            "21\n",
            "Harshad number\n"
          ]
        }
      ]
    },
    {
      "cell_type": "markdown",
      "source": [
        "**12ABUNDANT NUMBER**\n",
        "The Factors for the number 12 are, 1, 2, 3, 4 and 6. We don't want to include the number itself.\n",
        "Now the sum of the factors except the number itself is :\n",
        "1 + 2 + 3 + 4 + 6 = 16\n",
        "as the number 16>12 , the number itself.\n",
        "It's an abundant number."
      ],
      "metadata": {
        "id": "5w2COVoTX_yx"
      }
    },
    {
      "cell_type": "code",
      "source": [
        "n=int(input())\n",
        "sum=0\n",
        "for i in range(1,n):\n",
        "  if n%i==0:\n",
        "    sum+=i\n",
        "if sum>n:\n",
        "  print(\"abundant\")\n",
        "else:\n",
        "  print(\"not abundant\")"
      ],
      "metadata": {
        "colab": {
          "base_uri": "https://localhost:8080/"
        },
        "id": "qp-KZCIHZniN",
        "outputId": "087fdd0b-666d-48c8-e1d1-3ebfb2d13a7f"
      },
      "execution_count": 30,
      "outputs": [
        {
          "output_type": "stream",
          "name": "stdout",
          "text": [
            "12\n",
            "abundant\n"
          ]
        }
      ]
    },
    {
      "cell_type": "markdown",
      "source": [
        "**13.FRIENDLY PAIR**\n",
        "Example\n",
        "Input : 6 28\n",
        "Output : Yes, they are a friendly pair\n",
        "Explanation : The factors of 6 and 28 except the numbers themselves are 1, 2, 3 and 1, 2, 4, 7, 14 respectively.\n",
        "Now the sum of factors of both the numbers are 6 and 28 respectively.\n",
        "When we divide the sums with the numbers we get 1 and 1 respectively.\n",
        "As the ratio of both the number match, they are considered as a friendly pair."
      ],
      "metadata": {
        "id": "gKQENedHaLna"
      }
    },
    {
      "cell_type": "code",
      "source": [
        "# Define the two numbers\n",
        "num1 = 6\n",
        "num2 = 28\n",
        "\n",
        "# Initialize sums of proper divisors\n",
        "sum1 = 0\n",
        "sum2 = 0\n",
        "\n",
        "# Calculate the sum of proper divisors of num1\n",
        "for i in range(1, num1):\n",
        "    if num1 % i == 0:\n",
        "        sum1 += i\n",
        "\n",
        "# Calculate the sum of proper divisors of num2\n",
        "for i in range(1, num2):\n",
        "    if num2 % i == 0:\n",
        "        sum2 += i\n",
        "\n",
        "# Print sums for debugging\n",
        "print(f\"Sum of proper divisors of {num1}: {sum1}\")\n",
        "print(f\"Sum of proper divisors of {num2}: {sum2}\")\n",
        "\n",
        "# Determine if the numbers are friendly pairs (amicable pairs)\n",
        "if sum1 == num2 and sum2 == num1:\n",
        "    print(\"Friendly pair\")\n",
        "else:\n",
        "    print(\"Not a friendly pair\")\n",
        "\n"
      ],
      "metadata": {
        "colab": {
          "base_uri": "https://localhost:8080/"
        },
        "id": "9jOcmk02awBF",
        "outputId": "c2a05745-9024-4e90-b1ff-e44d14cd5cc7"
      },
      "execution_count": 48,
      "outputs": [
        {
          "output_type": "stream",
          "name": "stdout",
          "text": [
            "Sum of proper divisors of 6: 6\n",
            "Sum of proper divisors of 28: 28\n",
            "Not a friendly pair\n"
          ]
        }
      ]
    }
  ]
}